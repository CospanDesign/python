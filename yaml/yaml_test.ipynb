{
 "metadata": {
  "name": "",
  "signature": "sha256:cf891d9bb5586022a33bcc759609285acb4902a01983d2e38d33aaa03c57448c"
 },
 "nbformat": 3,
 "nbformat_minor": 0,
 "worksheets": [
  {
   "cells": [
    {
     "cell_type": "code",
     "collapsed": true,
     "input": [
      "import os\n",
      "import sys\n",
      "\n",
      "if __name__ == \"__main__\":\n",
      "        print \"HI\""
     ],
     "language": "python",
     "metadata": {},
     "outputs": [
      {
       "output_type": "stream",
       "stream": "stdout",
       "text": [
        "HI\n"
       ]
      }
     ],
     "prompt_number": 2
    },
    {
     "cell_type": "code",
     "collapsed": false,
     "input": [],
     "language": "python",
     "metadata": {},
     "outputs": []
    }
   ],
   "metadata": {}
  }
 ]
}